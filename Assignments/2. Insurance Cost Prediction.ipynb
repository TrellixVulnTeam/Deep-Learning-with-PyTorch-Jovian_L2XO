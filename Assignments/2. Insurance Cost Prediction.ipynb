{
 "cells": [
  {
   "cell_type": "markdown",
   "metadata": {
    "id": "fXIxCI5E-yLo"
   },
   "source": [
    "# Insurance cost prediction using linear regression\n",
    "\n",
    "Make a submisson here: https://jovian.ai/learn/deep-learning-with-pytorch-zero-to-gans/assignment/assignment-2-train-your-first-model\n",
    "\n",
    "In this assignment we're going to use information like a person's age, sex, BMI, no. of children and smoking habit to predict the price of yearly medical bills. This kind of model is useful for insurance companies to determine the yearly insurance premium for a person. The dataset for this problem is taken from [Kaggle](https://www.kaggle.com/mirichoi0218/insurance).\n",
    "\n",
    "\n",
    "We will create a model with the following steps:\n",
    "1. Download and explore the dataset\n",
    "2. Prepare the dataset for training\n",
    "3. Create a linear regression model\n",
    "4. Train the model to fit the data\n",
    "5. Make predictions using the trained model\n",
    "\n",
    "\n",
    "This assignment builds upon the concepts from the first 2 lessons. It will help to review these Jupyter notebooks:\n",
    "- PyTorch basics: https://jovian.ai/aakashns/01-pytorch-basics\n",
    "- Linear Regression: https://jovian.ai/aakashns/02-linear-regression\n",
    "- Logistic Regression: https://jovian.ai/aakashns/03-logistic-regression\n",
    "- Linear regression (minimal): https://jovian.ai/aakashns/housing-linear-minimal\n",
    "- Logistic regression (minimal): https://jovian.ai/aakashns/mnist-logistic-minimal\n",
    "\n",
    "As you go through this notebook, you will find a **???** in certain places. Your job is to replace the **???** with appropriate code or values, to ensure that the notebook runs properly end-to-end . In some cases, you'll be required to choose some hyperparameters (learning rate, batch size etc.). Try to experiment with the hypeparameters to get the lowest loss.\n"
   ]
  },
  {
   "cell_type": "code",
   "execution_count": 1,
   "metadata": {
    "id": "TYsiDeOc-yL0"
   },
   "outputs": [],
   "source": [
    "# Uncomment and run the appropriate command for your operating system, if required\n",
    "\n",
    "# Linux / Binder\n",
    "# !pip install numpy matplotlib pandas torch==1.7.0+cpu torchvision==0.8.1+cpu torchaudio==0.7.0 -f https://download.pytorch.org/whl/torch_stable.html\n",
    "\n",
    "# Windows\n",
    "# !pip install numpy matplotlib pandas torch==1.7.0+cpu torchvision==0.8.1+cpu torchaudio==0.7.0 -f https://download.pytorch.org/whl/torch_stable.html\n",
    "\n",
    "# MacOS\n",
    "# !pip install numpy matplotlib pandas torch torchvision torchaudio"
   ]
  },
  {
   "cell_type": "code",
   "execution_count": 2,
   "metadata": {
    "colab": {
     "base_uri": "https://localhost:8080/"
    },
    "id": "aok8GAPo_ek-",
    "outputId": "f9101886-c983-4599-f1fe-2c2e0ed92e99"
   },
   "outputs": [],
   "source": [
    "!pip install jovian --upgrade --quiet"
   ]
  },
  {
   "cell_type": "code",
   "execution_count": 3,
   "metadata": {
    "id": "ssC4gu8T-yL3"
   },
   "outputs": [],
   "source": [
    "import torch\n",
    "import jovian\n",
    "import torchvision\n",
    "import torch.nn as nn\n",
    "import pandas as pd\n",
    "import matplotlib.pyplot as plt\n",
    "import torch.nn.functional as F\n",
    "from torchvision.datasets.utils import download_url\n",
    "from torch.utils.data import DataLoader, TensorDataset, random_split"
   ]
  },
  {
   "cell_type": "code",
   "execution_count": 4,
   "metadata": {
    "id": "tSNn9mqD-yL5"
   },
   "outputs": [],
   "source": [
    "project_name='02-insurance-linear-regression' # will be used by jovian.commit"
   ]
  },
  {
   "cell_type": "markdown",
   "metadata": {
    "id": "orx9gL4W-yL6"
   },
   "source": [
    "## Step 1: Download and explore the data\n",
    "\n",
    "Let us begin by downloading the data. We'll use the `download_url` function from PyTorch to get the data as a CSV (comma-separated values) file. "
   ]
  },
  {
   "cell_type": "code",
   "execution_count": 5,
   "metadata": {
    "colab": {
     "base_uri": "https://localhost:8080/",
     "height": 86,
     "referenced_widgets": [
      "8f07a5ea105e497fba6b9a58e7c8f6df",
      "e1afbc481e3c4713a1b99e675388a437",
      "a476a0d4912f4294ad125f36ee995318",
      "b76334950bff401ba82854c0cbd50feb",
      "87b6d658dd86422dbd56adf781c1a4af",
      "9e699f83dd6f42209df8a244381e5e67",
      "0196947e784c45ccac0abfbbae7b4a5c",
      "e241c7a10f8f459d9a7d58ec0036db33",
      "59496c07162943abaf88b6e1f0a06c3f",
      "cd3349878a204e599eb1db810b694476",
      "ac4a907360ee40f5973bc8bf84e95e3c"
     ]
    },
    "id": "dESuXpT--yL7",
    "outputId": "2ccb5ec2-403e-40d0-da64-add2c34321a2"
   },
   "outputs": [
    {
     "name": "stdout",
     "output_type": "stream",
     "text": [
      "Using downloaded and verified file: ./insurance.csv\n"
     ]
    }
   ],
   "source": [
    "DATASET_URL = \"https://gist.github.com/BirajCoder/5f068dfe759c1ea6bdfce9535acdb72d/raw/c84d84e3c80f93be67f6c069cbdc0195ec36acbd/insurance.csv\"\n",
    "DATA_FILENAME = \"insurance.csv\"\n",
    "download_url(DATASET_URL, '.')"
   ]
  },
  {
   "cell_type": "markdown",
   "metadata": {
    "id": "eJxE-kJs-yL9"
   },
   "source": [
    "To load the dataset into memory, we'll use the `read_csv` function from the `pandas` library. The data will be loaded as a Pandas dataframe. See this short tutorial to learn more: https://data36.com/pandas-tutorial-1-basics-reading-data-files-dataframes-data-selection/"
   ]
  },
  {
   "cell_type": "code",
   "execution_count": 6,
   "metadata": {
    "colab": {
     "base_uri": "https://localhost:8080/",
     "height": 206
    },
    "id": "y5VnBY55-yL-",
    "outputId": "d37d126b-631d-49a5-d6bd-0677cf7be796"
   },
   "outputs": [
    {
     "data": {
      "text/html": [
       "<div>\n",
       "<style scoped>\n",
       "    .dataframe tbody tr th:only-of-type {\n",
       "        vertical-align: middle;\n",
       "    }\n",
       "\n",
       "    .dataframe tbody tr th {\n",
       "        vertical-align: top;\n",
       "    }\n",
       "\n",
       "    .dataframe thead th {\n",
       "        text-align: right;\n",
       "    }\n",
       "</style>\n",
       "<table border=\"1\" class=\"dataframe\">\n",
       "  <thead>\n",
       "    <tr style=\"text-align: right;\">\n",
       "      <th></th>\n",
       "      <th>age</th>\n",
       "      <th>sex</th>\n",
       "      <th>bmi</th>\n",
       "      <th>children</th>\n",
       "      <th>smoker</th>\n",
       "      <th>region</th>\n",
       "      <th>charges</th>\n",
       "    </tr>\n",
       "  </thead>\n",
       "  <tbody>\n",
       "    <tr>\n",
       "      <th>0</th>\n",
       "      <td>19</td>\n",
       "      <td>female</td>\n",
       "      <td>27.900</td>\n",
       "      <td>0</td>\n",
       "      <td>yes</td>\n",
       "      <td>southwest</td>\n",
       "      <td>16884.92400</td>\n",
       "    </tr>\n",
       "    <tr>\n",
       "      <th>1</th>\n",
       "      <td>18</td>\n",
       "      <td>male</td>\n",
       "      <td>33.770</td>\n",
       "      <td>1</td>\n",
       "      <td>no</td>\n",
       "      <td>southeast</td>\n",
       "      <td>1725.55230</td>\n",
       "    </tr>\n",
       "    <tr>\n",
       "      <th>2</th>\n",
       "      <td>28</td>\n",
       "      <td>male</td>\n",
       "      <td>33.000</td>\n",
       "      <td>3</td>\n",
       "      <td>no</td>\n",
       "      <td>southeast</td>\n",
       "      <td>4449.46200</td>\n",
       "    </tr>\n",
       "    <tr>\n",
       "      <th>3</th>\n",
       "      <td>33</td>\n",
       "      <td>male</td>\n",
       "      <td>22.705</td>\n",
       "      <td>0</td>\n",
       "      <td>no</td>\n",
       "      <td>northwest</td>\n",
       "      <td>21984.47061</td>\n",
       "    </tr>\n",
       "    <tr>\n",
       "      <th>4</th>\n",
       "      <td>32</td>\n",
       "      <td>male</td>\n",
       "      <td>28.880</td>\n",
       "      <td>0</td>\n",
       "      <td>no</td>\n",
       "      <td>northwest</td>\n",
       "      <td>3866.85520</td>\n",
       "    </tr>\n",
       "  </tbody>\n",
       "</table>\n",
       "</div>"
      ],
      "text/plain": [
       "   age     sex     bmi  children smoker     region      charges\n",
       "0   19  female  27.900         0    yes  southwest  16884.92400\n",
       "1   18    male  33.770         1     no  southeast   1725.55230\n",
       "2   28    male  33.000         3     no  southeast   4449.46200\n",
       "3   33    male  22.705         0     no  northwest  21984.47061\n",
       "4   32    male  28.880         0     no  northwest   3866.85520"
      ]
     },
     "execution_count": 6,
     "metadata": {},
     "output_type": "execute_result"
    }
   ],
   "source": [
    "dataframe_raw = pd.read_csv(DATA_FILENAME)\n",
    "dataframe_raw.head()"
   ]
  },
  {
   "cell_type": "markdown",
   "metadata": {
    "id": "EzblA2AW-yMA"
   },
   "source": [
    "We're going to do a slight customization of the data, so that you every participant receives a slightly different version of the dataset. Fill in your name below as a string (enter at least 5 characters)"
   ]
  },
  {
   "cell_type": "code",
   "execution_count": 7,
   "metadata": {
    "id": "PWFVHuEg-yMB"
   },
   "outputs": [],
   "source": [
    "your_name = \"Daniel\" # at least 5 characters"
   ]
  },
  {
   "cell_type": "markdown",
   "metadata": {
    "id": "tEp1b3UQ-yMB"
   },
   "source": [
    "The `customize_dataset` function will customize the dataset slightly using your name as a source of random numbers."
   ]
  },
  {
   "cell_type": "code",
   "execution_count": 8,
   "metadata": {
    "id": "np5IitEp-yMC"
   },
   "outputs": [],
   "source": [
    "def customize_dataset(dataframe_raw, rand_str):\n",
    "    dataframe = dataframe_raw.copy(deep=True)\n",
    "    # drop some rows\n",
    "    dataframe = dataframe.sample(int(0.95*len(dataframe)), random_state=int(ord(rand_str[0])))\n",
    "    # scale input\n",
    "    dataframe.bmi = dataframe.bmi * ord(rand_str[1])/100.\n",
    "    # scale target\n",
    "    dataframe.charges = dataframe.charges * ord(rand_str[2])/100.\n",
    "    # drop column\n",
    "    if ord(rand_str[3]) % 2 == 1:\n",
    "        dataframe = dataframe.drop(['region'], axis=1)\n",
    "    return dataframe"
   ]
  },
  {
   "cell_type": "code",
   "execution_count": 9,
   "metadata": {
    "colab": {
     "base_uri": "https://localhost:8080/",
     "height": 206
    },
    "id": "BstHyiZF-yMD",
    "outputId": "e507e85c-d770-4f36-ccfb-8a3cbe51d391"
   },
   "outputs": [
    {
     "data": {
      "text/html": [
       "<div>\n",
       "<style scoped>\n",
       "    .dataframe tbody tr th:only-of-type {\n",
       "        vertical-align: middle;\n",
       "    }\n",
       "\n",
       "    .dataframe tbody tr th {\n",
       "        vertical-align: top;\n",
       "    }\n",
       "\n",
       "    .dataframe thead th {\n",
       "        text-align: right;\n",
       "    }\n",
       "</style>\n",
       "<table border=\"1\" class=\"dataframe\">\n",
       "  <thead>\n",
       "    <tr style=\"text-align: right;\">\n",
       "      <th></th>\n",
       "      <th>age</th>\n",
       "      <th>sex</th>\n",
       "      <th>bmi</th>\n",
       "      <th>children</th>\n",
       "      <th>smoker</th>\n",
       "      <th>charges</th>\n",
       "    </tr>\n",
       "  </thead>\n",
       "  <tbody>\n",
       "    <tr>\n",
       "      <th>184</th>\n",
       "      <td>44</td>\n",
       "      <td>male</td>\n",
       "      <td>29.76930</td>\n",
       "      <td>2</td>\n",
       "      <td>no</td>\n",
       "      <td>8504.569810</td>\n",
       "    </tr>\n",
       "    <tr>\n",
       "      <th>378</th>\n",
       "      <td>64</td>\n",
       "      <td>female</td>\n",
       "      <td>29.21155</td>\n",
       "      <td>3</td>\n",
       "      <td>no</td>\n",
       "      <td>18101.278635</td>\n",
       "    </tr>\n",
       "    <tr>\n",
       "      <th>1179</th>\n",
       "      <td>31</td>\n",
       "      <td>male</td>\n",
       "      <td>28.91570</td>\n",
       "      <td>0</td>\n",
       "      <td>yes</td>\n",
       "      <td>21285.405790</td>\n",
       "    </tr>\n",
       "    <tr>\n",
       "      <th>55</th>\n",
       "      <td>58</td>\n",
       "      <td>male</td>\n",
       "      <td>35.84635</td>\n",
       "      <td>2</td>\n",
       "      <td>yes</td>\n",
       "      <td>52246.143895</td>\n",
       "    </tr>\n",
       "    <tr>\n",
       "      <th>121</th>\n",
       "      <td>18</td>\n",
       "      <td>male</td>\n",
       "      <td>23.03750</td>\n",
       "      <td>0</td>\n",
       "      <td>no</td>\n",
       "      <td>1876.186950</td>\n",
       "    </tr>\n",
       "  </tbody>\n",
       "</table>\n",
       "</div>"
      ],
      "text/plain": [
       "      age     sex       bmi  children smoker       charges\n",
       "184    44    male  29.76930         2     no   8504.569810\n",
       "378    64  female  29.21155         3     no  18101.278635\n",
       "1179   31    male  28.91570         0    yes  21285.405790\n",
       "55     58    male  35.84635         2    yes  52246.143895\n",
       "121    18    male  23.03750         0     no   1876.186950"
      ]
     },
     "execution_count": 9,
     "metadata": {},
     "output_type": "execute_result"
    }
   ],
   "source": [
    "dataframe = customize_dataset(dataframe_raw, your_name)\n",
    "dataframe.head()"
   ]
  },
  {
   "cell_type": "markdown",
   "metadata": {
    "id": "zn2qKrGX-yME"
   },
   "source": [
    "Let us answer some basic questions about the dataset. \n",
    "\n",
    "\n",
    "**Q1: How many rows does the dataset have?**"
   ]
  },
  {
   "cell_type": "code",
   "execution_count": 10,
   "metadata": {
    "colab": {
     "base_uri": "https://localhost:8080/"
    },
    "id": "0gacRIEB-yME",
    "outputId": "784efa03-cead-4e6f-d7fc-395a58cd9e10"
   },
   "outputs": [
    {
     "name": "stdout",
     "output_type": "stream",
     "text": [
      "1271\n"
     ]
    }
   ],
   "source": [
    "num_rows = len(dataframe)\n",
    "print(num_rows)"
   ]
  },
  {
   "cell_type": "markdown",
   "metadata": {
    "id": "H8yVKo12-yMF"
   },
   "source": [
    "**Q2: How many columns doe the dataset have**"
   ]
  },
  {
   "cell_type": "code",
   "execution_count": 11,
   "metadata": {
    "colab": {
     "base_uri": "https://localhost:8080/"
    },
    "id": "B0SSEiic-yMF",
    "outputId": "83a8e443-8132-46bd-b7c3-4874b4922915"
   },
   "outputs": [
    {
     "name": "stdout",
     "output_type": "stream",
     "text": [
      "6\n"
     ]
    }
   ],
   "source": [
    "num_cols = len(dataframe.columns)\n",
    "print(num_cols)"
   ]
  },
  {
   "cell_type": "markdown",
   "metadata": {
    "id": "UCUxFfza-yMG"
   },
   "source": [
    "**Q3: What are the column titles of the input variables?**"
   ]
  },
  {
   "cell_type": "code",
   "execution_count": 12,
   "metadata": {
    "id": "qXV1E2ur-yMG"
   },
   "outputs": [],
   "source": [
    "input_cols = list(dataframe.drop([\"charges\"], axis=1).columns)"
   ]
  },
  {
   "cell_type": "markdown",
   "metadata": {
    "id": "DqgHPdjX-yMG"
   },
   "source": [
    "**Q4: Which of the input columns are non-numeric or categorial variables ?**\n",
    "\n",
    "Hint: `sex` is one of them. List the columns that are not numbers."
   ]
  },
  {
   "cell_type": "code",
   "execution_count": 13,
   "metadata": {
    "id": "kVbcsYRs-yMH"
   },
   "outputs": [],
   "source": [
    "categorical_cols = [\"sex\", \"smoker\"]"
   ]
  },
  {
   "cell_type": "markdown",
   "metadata": {
    "id": "BkhOnsKk-yMI"
   },
   "source": [
    "**Q5: What are the column titles of output/target variable(s)?**"
   ]
  },
  {
   "cell_type": "code",
   "execution_count": 14,
   "metadata": {
    "id": "6v9rfT1b-yMI"
   },
   "outputs": [],
   "source": [
    "output_cols = [\"charges\"]"
   ]
  },
  {
   "cell_type": "markdown",
   "metadata": {
    "id": "df6IBFnA-yMK"
   },
   "source": [
    "**Q: (Optional) What is the minimum, maximum and average value of the `charges` column? Can you show the distribution of values in a graph?**\n",
    "Use this data visualization cheatsheet for referece: https://jovian.ai/aakashns/dataviz-cheatsheet"
   ]
  },
  {
   "cell_type": "code",
   "execution_count": 15,
   "metadata": {
    "colab": {
     "base_uri": "https://localhost:8080/",
     "height": 282
    },
    "id": "BG7lf9aa-yMK",
    "outputId": "36a93891-68ad-4c91-b849-20ad9775c6b3"
   },
   "outputs": [
    {
     "data": {
      "text/plain": [
       "(1234.06129, 70147.470811, 14567.360432224936)"
      ]
     },
     "execution_count": 15,
     "metadata": {},
     "output_type": "execute_result"
    },
    {
     "data": {
      "image/png": "[encoded data removed]",
      "text/plain": [
       "<Figure size 432x288 with 1 Axes>"
      ]
     },
     "metadata": {
      "needs_background": "light"
     },
     "output_type": "display_data"
    }
   ],
   "source": [
    "# Write your answer here\n",
    "\n",
    "min_charge = dataframe[\"charges\"].min()\n",
    "max_charge = dataframe[\"charges\"].max()\n",
    "average_charge = dataframe[\"charges\"].mean()\n",
    "# dataframe[\"charges\"].describe()[\"mean\"]\n",
    "\n",
    "dataframe[\"charges\"].hist(bins=20)\n",
    "min_charge, max_charge, average_charge"
   ]
  },
  {
   "cell_type": "markdown",
   "metadata": {
    "id": "JUX-n6BR-yML"
   },
   "source": [
    "Remember to commit your notebook to Jovian after every step, so that you don't lose your work."
   ]
  },
  {
   "cell_type": "code",
   "execution_count": 16,
   "metadata": {
    "id": "1OadLxN_-yML"
   },
   "outputs": [],
   "source": [
    "!pip install jovian --upgrade -q"
   ]
  },
  {
   "cell_type": "code",
   "execution_count": 17,
   "metadata": {
    "id": "xkLsJvFm-yML"
   },
   "outputs": [],
   "source": [
    "import jovian"
   ]
  },
  {
   "cell_type": "code",
   "execution_count": 18,
   "metadata": {
    "id": "T8rVPP6R-yMM",
    "outputId": "dfdab11e-bfb6-4a87-aa7a-dae4a01f4e2f"
   },
   "outputs": [
    {
     "data": {
      "application/javascript": [
       "window.require && require([\"base/js/namespace\"],function(Jupyter){Jupyter.notebook.save_checkpoint()})"
      ],
      "text/plain": [
       "<IPython.core.display.Javascript object>"
      ]
     },
     "metadata": {},
     "output_type": "display_data"
    },
    {
     "name": "stdout",
     "output_type": "stream",
     "text": [
      "[jovian] Updating notebook \"adejumod7/02-insurance-linear-regression\" on https://jovian.ai\u001b[0m\n",
      "[jovian] Committed successfully! https://jovian.ai/adejumod7/02-insurance-linear-regression\u001b[0m\n"
     ]
    },
    {
     "data": {
      "text/plain": [
       "'https://jovian.ai/adejumod7/02-insurance-linear-regression'"
      ]
     },
     "execution_count": 18,
     "metadata": {},
     "output_type": "execute_result"
    }
   ],
   "source": [
    "jovian.commit()"
   ]
  },
  {
   "cell_type": "markdown",
   "metadata": {
    "id": "D0fhJnwc-yMM"
   },
   "source": [
    "## Step 2: Prepare the dataset for training\n",
    "\n",
    "We need to convert the data from the Pandas dataframe into a PyTorch tensors for training. To do this, the first step is to convert it numpy arrays. If you've filled out `input_cols`, `categorial_cols` and `output_cols` correctly, this following function will perform the conversion to numpy arrays."
   ]
  },
  {
   "cell_type": "code",
   "execution_count": 19,
   "metadata": {
    "id": "OtwWy9zm-yMM"
   },
   "outputs": [],
   "source": [
    "def dataframe_to_arrays(dataframe):\n",
    "    # Make a copy of the original dataframe\n",
    "    dataframe1 = dataframe.copy(deep=True)\n",
    "    # Convert non-numeric categorical columns to numbers\n",
    "    for col in categorical_cols:\n",
    "        dataframe1[col] = dataframe1[col].astype('category').cat.codes\n",
    "    # Extract input & outupts as numpy arrays\n",
    "    inputs_array = dataframe1[input_cols].to_numpy()\n",
    "    targets_array = dataframe1[output_cols].to_numpy()\n",
    "    return inputs_array, targets_array"
   ]
  },
  {
   "cell_type": "markdown",
   "metadata": {
    "id": "RMBzIMjz-yMN"
   },
   "source": [
    "Read through the [Pandas documentation](https://pandas.pydata.org/pandas-docs/stable/user_guide/categorical.html) to understand how we're converting categorical variables into numbers."
   ]
  },
  {
   "cell_type": "code",
   "execution_count": 20,
   "metadata": {
    "colab": {
     "base_uri": "https://localhost:8080/"
    },
    "id": "YhsBhfvu-yMN",
    "outputId": "faf65fbb-b166-4f7c-dff2-9fbca0cfea46"
   },
   "outputs": [
    {
     "data": {
      "text/plain": [
       "(array([[44.     ,  1.     , 29.7693 ,  2.     ,  0.     ],\n",
       "        [64.     ,  0.     , 29.21155,  3.     ,  0.     ],\n",
       "        [31.     ,  1.     , 28.9157 ,  0.     ,  1.     ],\n",
       "        ...,\n",
       "        [18.     ,  0.     , 39.0716 ,  0.     ,  0.     ],\n",
       "        [54.     ,  1.     , 24.6962 ,  1.     ,  0.     ],\n",
       "        [46.     ,  1.     , 25.8214 ,  1.     ,  0.     ]]),\n",
       " array([[ 8504.56981 ],\n",
       "        [18101.278635],\n",
       "        [21285.40579 ],\n",
       "        ...,\n",
       "        [ 2439.36132 ],\n",
       "        [28068.824993],\n",
       "        [ 8516.32078 ]]))"
      ]
     },
     "execution_count": 20,
     "metadata": {},
     "output_type": "execute_result"
    }
   ],
   "source": [
    "inputs_array, targets_array = dataframe_to_arrays(dataframe)\n",
    "inputs_array, targets_array"
   ]
  },
  {
   "cell_type": "markdown",
   "metadata": {
    "id": "hi5oSsSm-yMN"
   },
   "source": [
    "**Q6: Convert the numpy arrays `inputs_array` and `targets_array` into PyTorch tensors. Make sure that the data type is `torch.float32`.**"
   ]
  },
  {
   "cell_type": "code",
   "execution_count": 21,
   "metadata": {
    "id": "bpezXMu_-yMN"
   },
   "outputs": [],
   "source": [
    "inputs = torch.tensor(inputs_array, dtype=torch.float32)\n",
    "targets = torch.tensor(targets_array, dtype=torch.float32)"
   ]
  },
  {
   "cell_type": "code",
   "execution_count": 22,
   "metadata": {
    "colab": {
     "base_uri": "https://localhost:8080/"
    },
    "id": "LbhcwhLW-yMO",
    "outputId": "a4a37c48-819f-43f3-cda4-584ae10036de"
   },
   "outputs": [
    {
     "data": {
      "text/plain": [
       "(torch.float32, torch.float32)"
      ]
     },
     "execution_count": 22,
     "metadata": {},
     "output_type": "execute_result"
    }
   ],
   "source": [
    "inputs.dtype, targets.dtype"
   ]
  },
  {
   "cell_type": "markdown",
   "metadata": {
    "id": "uamV6eQy-yMO"
   },
   "source": [
    "Next, we need to create PyTorch datasets & data loaders for training & validation. We'll start by creating a `TensorDataset`."
   ]
  },
  {
   "cell_type": "code",
   "execution_count": 23,
   "metadata": {
    "id": "8kbqQHWC-yMO"
   },
   "outputs": [],
   "source": [
    "dataset = TensorDataset(inputs, targets)"
   ]
  },
  {
   "cell_type": "markdown",
   "metadata": {
    "id": "JUy8XX6l-yMP"
   },
   "source": [
    "**Q7: Pick a number between `0.1` and `0.2` to determine the fraction of data that will be used for creating the validation set. Then use `random_split` to create training & validation datasets.**"
   ]
  },
  {
   "cell_type": "code",
   "execution_count": 24,
   "metadata": {
    "id": "hB8zv8GA-yMP"
   },
   "outputs": [],
   "source": [
    "val_percent = 0.1 # between 0.1 and 0.2\n",
    "val_size = int(num_rows * val_percent)\n",
    "train_size = num_rows - val_size\n",
    "\n",
    "\n",
    "train_ds, val_ds = random_split(dataset, [train_size, val_size]) # Use the random_split function to split dataset into 2 parts of the desired length"
   ]
  },
  {
   "cell_type": "markdown",
   "metadata": {
    "id": "e3YCTvrD-yMP"
   },
   "source": [
    "Finally, we can create data loaders for training & validation.\n",
    "\n",
    "**Q8: Pick a batch size for the data loader.**"
   ]
  },
  {
   "cell_type": "code",
   "execution_count": 25,
   "metadata": {
    "id": "PU78c952-yMQ"
   },
   "outputs": [],
   "source": [
    "batch_size = 10"
   ]
  },
  {
   "cell_type": "code",
   "execution_count": 26,
   "metadata": {
    "id": "xlPDqIuV-yMQ"
   },
   "outputs": [],
   "source": [
    "train_loader = DataLoader(train_ds, batch_size, shuffle=True)\n",
    "val_loader = DataLoader(val_ds, batch_size)"
   ]
  },
  {
   "cell_type": "markdown",
   "metadata": {
    "id": "9_0J21YG-yMQ"
   },
   "source": [
    "Let's look at a batch of data to verify everything is working fine so far."
   ]
  },
  {
   "cell_type": "code",
   "execution_count": 27,
   "metadata": {
    "colab": {
     "base_uri": "https://localhost:8080/"
    },
    "id": "ePijWyvT-yMQ",
    "outputId": "47e1ffb8-e1f7-41d9-e3cb-adb0a85011cd"
   },
   "outputs": [
    {
     "name": "stdout",
     "output_type": "stream",
     "text": [
      "inputs: tensor([[26.0000,  1.0000, 29.9487,  2.0000,  0.0000],\n",
      "        [56.0000,  0.0000, 36.3847,  2.0000,  0.0000],\n",
      "        [21.0000,  0.0000, 33.5620,  0.0000,  0.0000],\n",
      "        [24.0000,  0.0000, 21.9220,  0.0000,  0.0000],\n",
      "        [30.0000,  1.0000, 30.6229,  3.0000,  0.0000],\n",
      "        [39.0000,  1.0000, 44.0671,  2.0000,  0.0000],\n",
      "        [64.0000,  0.0000, 31.9760,  0.0000,  0.0000],\n",
      "        [19.0000,  1.0000, 21.9317,  0.0000,  0.0000],\n",
      "        [39.0000,  0.0000, 23.4982,  5.0000,  0.0000],\n",
      "        [26.0000,  1.0000, 30.1331,  0.0000,  0.0000]])\n",
      "targets: tensor([[ 4265.0347],\n",
      "        [13492.0576],\n",
      "        [ 2222.1946],\n",
      "        [ 2703.2522],\n",
      "        [ 5321.3403],\n",
      "        [ 6991.8979],\n",
      "        [16161.9365],\n",
      "        [ 1791.3180],\n",
      "        [ 9862.3750],\n",
      "        [ 2969.5251]])\n"
     ]
    }
   ],
   "source": [
    "for xb, yb in train_loader:\n",
    "    print(\"inputs:\", xb)\n",
    "    print(\"targets:\", yb)\n",
    "    break"
   ]
  },
  {
   "cell_type": "markdown",
   "metadata": {
    "id": "UjQcnC08-yMR"
   },
   "source": [
    "Let's save our work by committing to Jovian."
   ]
  },
  {
   "cell_type": "code",
   "execution_count": 28,
   "metadata": {
    "colab": {
     "base_uri": "https://localhost:8080/"
    },
    "id": "zQKzMuU1-yMR",
    "outputId": "8f6f02a8-ca73-483b-9117-b4e07c69c9b5"
   },
   "outputs": [
    {
     "data": {
      "application/javascript": [
       "window.require && require([\"base/js/namespace\"],function(Jupyter){Jupyter.notebook.save_checkpoint()})"
      ],
      "text/plain": [
       "<IPython.core.display.Javascript object>"
      ]
     },
     "metadata": {},
     "output_type": "display_data"
    },
    {
     "name": "stdout",
     "output_type": "stream",
     "text": [
      "[jovian] Updating notebook \"adejumod7/02-insurance-linear-regression\" on https://jovian.ai\u001b[0m\n",
      "[jovian] Committed successfully! https://jovian.ai/adejumod7/02-insurance-linear-regression\u001b[0m\n"
     ]
    },
    {
     "data": {
      "text/plain": [
       "'https://jovian.ai/adejumod7/02-insurance-linear-regression'"
      ]
     },
     "execution_count": 28,
     "metadata": {},
     "output_type": "execute_result"
    }
   ],
   "source": [
    "jovian.commit(project=project_name, environment=None)"
   ]
  },
  {
   "cell_type": "markdown",
   "metadata": {
    "id": "08OpnGBm-yMR"
   },
   "source": [
    "## Step 3: Create a Linear Regression Model\n",
    "\n",
    "Our model itself is a fairly straightforward linear regression (we'll build more complex models in the next assignment). \n"
   ]
  },
  {
   "cell_type": "code",
   "execution_count": 29,
   "metadata": {
    "id": "HD8bvrZ--yMR"
   },
   "outputs": [],
   "source": [
    "input_size = len(input_cols)\n",
    "output_size = len(output_cols)"
   ]
  },
  {
   "cell_type": "markdown",
   "metadata": {
    "id": "T_Jo7tJV-yMR"
   },
   "source": [
    "**Q9: Complete the class definition below by filling out the constructor (`__init__`), `forward`, `training_step` and `validation_step` methods.**\n",
    "\n",
    "Hint: Think carefully about picking a good loss fuction (it's not cross entropy). Maybe try 2-3 of them and see which one works best. See https://pytorch.org/docs/stable/nn.functional.html#loss-functions"
   ]
  },
  {
   "cell_type": "code",
   "execution_count": 30,
   "metadata": {
    "id": "rQxQX2IZ-yMS"
   },
   "outputs": [],
   "source": [
    "class InsuranceModel(nn.Module):\n",
    "    def __init__(self):\n",
    "        super().__init__()\n",
    "        self.linear = nn.Linear(input_size, output_size)                  # fill this (hint: use input_size & output_size defined above)\n",
    "        \n",
    "    def forward(self, xb):\n",
    "        out = self.linear(xb)                          # fill this\n",
    "        return out\n",
    "    \n",
    "    def training_step(self, batch):\n",
    "        inputs, targets = batch \n",
    "        # Generate predictions\n",
    "        out = self(inputs)          \n",
    "        # Calcuate loss\n",
    "        loss = F.l1_loss(out, targets)                          # fill this\n",
    "        return loss\n",
    "    \n",
    "    def validation_step(self, batch):\n",
    "        inputs, targets = batch\n",
    "        # Generate predictions\n",
    "        out = self(inputs)\n",
    "        # Calculate loss\n",
    "        loss = F.l1_loss(out, targets)                            # fill this    \n",
    "        return {'val_loss': loss.detach()}\n",
    "        \n",
    "    def validation_epoch_end(self, outputs):\n",
    "        batch_losses = [x['val_loss'] for x in outputs]\n",
    "        epoch_loss = torch.stack(batch_losses).mean()   # Combine losses\n",
    "        return {'val_loss': epoch_loss.item()}\n",
    "    \n",
    "    def epoch_end(self, epoch, result, num_epochs):\n",
    "        # Print result every 20th epoch\n",
    "        if (epoch+1) % 20 == 0 or epoch == num_epochs-1:\n",
    "            print(\"Epoch [{}], val_loss: {:.4f}\".format(epoch+1, result['val_loss']))"
   ]
  },
  {
   "cell_type": "markdown",
   "metadata": {
    "id": "VPrpZ3Lq-yMS"
   },
   "source": [
    "Let us create a model using the `InsuranceModel` class. You may need to come back later and re-run the next cell to reinitialize the model, in case the loss becomes `nan` or `infinity`."
   ]
  },
  {
   "cell_type": "code",
   "execution_count": 31,
   "metadata": {
    "id": "L63-YzQA-yMS"
   },
   "outputs": [],
   "source": [
    "model = InsuranceModel()"
   ]
  },
  {
   "cell_type": "markdown",
   "metadata": {
    "id": "1szzzjjm-yMT"
   },
   "source": [
    "Let's check out the weights and biases of the model using `model.parameters`."
   ]
  },
  {
   "cell_type": "code",
   "execution_count": 32,
   "metadata": {
    "colab": {
     "base_uri": "https://localhost:8080/"
    },
    "id": "ebpwJo2R-yMT",
    "outputId": "1d3296c7-bd17-4523-b552-94f036b04d4f"
   },
   "outputs": [
    {
     "data": {
      "text/plain": [
       "[Parameter containing:\n",
       " tensor([[-0.2060, -0.3251,  0.2148, -0.2338, -0.3749]], requires_grad=True),\n",
       " Parameter containing:\n",
       " tensor([-0.0309], requires_grad=True)]"
      ]
     },
     "execution_count": 32,
     "metadata": {},
     "output_type": "execute_result"
    }
   ],
   "source": [
    "list(model.parameters())"
   ]
  },
  {
   "cell_type": "markdown",
   "metadata": {
    "id": "31g8-OP1-yMT"
   },
   "source": [
    "One final commit before we train the model."
   ]
  },
  {
   "cell_type": "code",
   "execution_count": 33,
   "metadata": {
    "colab": {
     "base_uri": "https://localhost:8080/"
    },
    "id": "hYljV9pS-yMT",
    "outputId": "fb18da1a-6522-40b1-828a-18841b7f8e44"
   },
   "outputs": [
    {
     "data": {
      "application/javascript": [
       "window.require && require([\"base/js/namespace\"],function(Jupyter){Jupyter.notebook.save_checkpoint()})"
      ],
      "text/plain": [
       "<IPython.core.display.Javascript object>"
      ]
     },
     "metadata": {},
     "output_type": "display_data"
    },
    {
     "name": "stdout",
     "output_type": "stream",
     "text": [
      "[jovian] Updating notebook \"adejumod7/02-insurance-linear-regression\" on https://jovian.ai\u001b[0m\n",
      "[jovian] Committed successfully! https://jovian.ai/adejumod7/02-insurance-linear-regression\u001b[0m\n"
     ]
    },
    {
     "data": {
      "text/plain": [
       "'https://jovian.ai/adejumod7/02-insurance-linear-regression'"
      ]
     },
     "execution_count": 33,
     "metadata": {},
     "output_type": "execute_result"
    }
   ],
   "source": [
    "jovian.commit(project=project_name, environment=None)"
   ]
  },
  {
   "cell_type": "markdown",
   "metadata": {
    "id": "TNqV27zb-yMU"
   },
   "source": [
    "## Step 4: Train the model to fit the data\n",
    "\n",
    "To train our model, we'll use the same `fit` function explained in the lecture. That's the benefit of defining a generic training loop - you can use it for any problem."
   ]
  },
  {
   "cell_type": "code",
   "execution_count": 34,
   "metadata": {
    "id": "OUTkdB3x-yMU"
   },
   "outputs": [],
   "source": [
    "def evaluate(model, val_loader):\n",
    "    outputs = [model.validation_step(batch) for batch in val_loader]\n",
    "    return model.validation_epoch_end(outputs)\n",
    "\n",
    "def fit(epochs, lr, model, train_loader, val_loader, opt_func=torch.optim.SGD):\n",
    "    history = []\n",
    "    optimizer = opt_func(model.parameters(), lr)\n",
    "    for epoch in range(epochs):\n",
    "        # Training Phase \n",
    "        for batch in train_loader:\n",
    "            loss = model.training_step(batch)\n",
    "            loss.backward()\n",
    "            optimizer.step()\n",
    "            optimizer.zero_grad()\n",
    "        # Validation phase\n",
    "        result = evaluate(model, val_loader)\n",
    "        model.epoch_end(epoch, result, epochs)\n",
    "        history.append(result)\n",
    "    return history"
   ]
  },
  {
   "cell_type": "markdown",
   "metadata": {
    "id": "OJwXt2aH-yMV"
   },
   "source": [
    "**Q10: Use the `evaluate` function to calculate the loss on the validation set before training.**"
   ]
  },
  {
   "cell_type": "code",
   "execution_count": 35,
   "metadata": {
    "colab": {
     "base_uri": "https://localhost:8080/"
    },
    "id": "iDDzLOqC-yMV",
    "outputId": "8801e010-8a62-4da0-c846-fac55f2b1802"
   },
   "outputs": [
    {
     "name": "stdout",
     "output_type": "stream",
     "text": [
      "{'val_loss': 13653.357421875}\n"
     ]
    }
   ],
   "source": [
    "result = evaluate(model, val_loader) # Use the the evaluate function\n",
    "print(result)"
   ]
  },
  {
   "cell_type": "markdown",
   "metadata": {
    "id": "0ZQvcbQu-yMW"
   },
   "source": [
    "\n",
    "We are now ready to train the model. You may need to run the training loop many times, for different number of epochs and with different learning rates, to get a good result. Also, if your loss becomes too large (or `nan`), you may have to re-initialize the model by running the cell `model = InsuranceModel()`. Experiment with this for a while, and try to get to as low a loss as possible."
   ]
  },
  {
   "cell_type": "markdown",
   "metadata": {
    "id": "viY-kF_J-yMW"
   },
   "source": [
    "**Q11: Train the model 4-5 times with different learning rates & for different number of epochs.**\n",
    "\n",
    "Hint: Vary learning rates by orders of 10 (e.g. `1e-2`, `1e-3`, `1e-4`, `1e-5`, `1e-6`) to figure out what works."
   ]
  },
  {
   "cell_type": "code",
   "execution_count": 36,
   "metadata": {
    "colab": {
     "base_uri": "https://localhost:8080/"
    },
    "id": "t7vY_Sye-yMW",
    "outputId": "3cffc955-d0aa-4bac-d8d7-16da9058b92c"
   },
   "outputs": [
    {
     "name": "stdout",
     "output_type": "stream",
     "text": [
      "Epoch [20], val_loss: 6116.2266\n",
      "Epoch [40], val_loss: 5964.9341\n",
      "Epoch [60], val_loss: 5904.4277\n",
      "Epoch [80], val_loss: 5909.0659\n",
      "Epoch [100], val_loss: 5944.4238\n",
      "Epoch [120], val_loss: 5760.0811\n",
      "Epoch [140], val_loss: 6021.4824\n",
      "Epoch [160], val_loss: 5875.5693\n",
      "Epoch [180], val_loss: 5857.5679\n",
      "Epoch [200], val_loss: 5697.3486\n",
      "Epoch [220], val_loss: 5516.5229\n",
      "Epoch [240], val_loss: 5687.9585\n",
      "Epoch [260], val_loss: 5629.7065\n",
      "Epoch [280], val_loss: 5698.0591\n",
      "Epoch [300], val_loss: 5356.7041\n",
      "Epoch [320], val_loss: 5476.2559\n",
      "Epoch [340], val_loss: 5265.4502\n",
      "Epoch [360], val_loss: 5203.7036\n",
      "Epoch [380], val_loss: 5169.4790\n",
      "Epoch [400], val_loss: 5311.4346\n",
      "Epoch [420], val_loss: 5517.5391\n",
      "Epoch [440], val_loss: 5086.6802\n",
      "Epoch [460], val_loss: 5029.2944\n",
      "Epoch [480], val_loss: 4971.2832\n",
      "Epoch [500], val_loss: 4925.8481\n",
      "Epoch [520], val_loss: 4976.7534\n",
      "Epoch [540], val_loss: 5054.9741\n",
      "Epoch [560], val_loss: 4927.7021\n",
      "Epoch [580], val_loss: 4782.7310\n",
      "Epoch [600], val_loss: 4759.0386\n",
      "Epoch [620], val_loss: 4763.7285\n",
      "Epoch [640], val_loss: 4929.0518\n",
      "Epoch [660], val_loss: 4796.6895\n",
      "Epoch [680], val_loss: 4570.2476\n",
      "Epoch [700], val_loss: 4467.2734\n",
      "Epoch [720], val_loss: 4546.7271\n",
      "Epoch [740], val_loss: 4537.1729\n",
      "Epoch [760], val_loss: 4356.0400\n",
      "Epoch [780], val_loss: 4395.6729\n",
      "Epoch [800], val_loss: 4248.2441\n",
      "Epoch [820], val_loss: 4289.1162\n",
      "Epoch [840], val_loss: 4190.7314\n",
      "Epoch [860], val_loss: 4362.2676\n",
      "Epoch [880], val_loss: 4130.4004\n",
      "Epoch [900], val_loss: 4163.5049\n",
      "Epoch [920], val_loss: 5023.8706\n",
      "Epoch [940], val_loss: 4108.4814\n",
      "Epoch [960], val_loss: 3930.5486\n",
      "Epoch [980], val_loss: 4093.3008\n",
      "Epoch [1000], val_loss: 4031.2866\n",
      "Epoch [1020], val_loss: 3842.3647\n",
      "Epoch [1040], val_loss: 3808.9233\n",
      "Epoch [1060], val_loss: 4029.8154\n",
      "Epoch [1080], val_loss: 3916.2927\n",
      "Epoch [1100], val_loss: 3788.1780\n",
      "Epoch [1120], val_loss: 3729.7815\n",
      "Epoch [1140], val_loss: 4028.1382\n",
      "Epoch [1160], val_loss: 3710.5208\n",
      "Epoch [1180], val_loss: 4553.8818\n",
      "Epoch [1200], val_loss: 3654.2849\n",
      "Epoch [1220], val_loss: 3652.1870\n",
      "Epoch [1240], val_loss: 3868.0493\n",
      "Epoch [1260], val_loss: 3660.8303\n",
      "Epoch [1280], val_loss: 3651.3660\n",
      "Epoch [1300], val_loss: 3628.6287\n",
      "Epoch [1320], val_loss: 3656.0608\n",
      "Epoch [1340], val_loss: 3562.5588\n",
      "Epoch [1360], val_loss: 3804.7007\n",
      "Epoch [1380], val_loss: 3567.5496\n",
      "Epoch [1400], val_loss: 4021.9438\n",
      "Epoch [1420], val_loss: 3741.2991\n",
      "Epoch [1440], val_loss: 3661.9050\n",
      "Epoch [1460], val_loss: 3605.1953\n",
      "Epoch [1480], val_loss: 3679.3088\n",
      "Epoch [1500], val_loss: 3649.1089\n",
      "Epoch [1520], val_loss: 3550.4458\n",
      "Epoch [1540], val_loss: 3703.2153\n",
      "Epoch [1560], val_loss: 3496.3013\n",
      "Epoch [1580], val_loss: 3595.5552\n",
      "Epoch [1600], val_loss: 3670.4702\n",
      "Epoch [1620], val_loss: 3620.8513\n",
      "Epoch [1640], val_loss: 3608.8999\n",
      "Epoch [1660], val_loss: 3476.5459\n",
      "Epoch [1680], val_loss: 3514.8552\n",
      "Epoch [1700], val_loss: 3490.4438\n",
      "Epoch [1720], val_loss: 3657.5513\n",
      "Epoch [1740], val_loss: 3537.3828\n",
      "Epoch [1760], val_loss: 3686.5647\n",
      "Epoch [1780], val_loss: 3808.9626\n",
      "Epoch [1800], val_loss: 3474.0591\n",
      "Epoch [1820], val_loss: 3559.5635\n",
      "Epoch [1840], val_loss: 3450.8748\n",
      "Epoch [1860], val_loss: 3623.3591\n",
      "Epoch [1880], val_loss: 3519.1069\n",
      "Epoch [1900], val_loss: 3774.4885\n",
      "Epoch [1920], val_loss: 3437.2422\n",
      "Epoch [1940], val_loss: 3471.3669\n",
      "Epoch [1960], val_loss: 3444.5413\n",
      "Epoch [1980], val_loss: 3438.6826\n",
      "Epoch [2000], val_loss: 3474.1255\n"
     ]
    }
   ],
   "source": [
    "epochs = 2000\n",
    "lr = 0.5\n",
    "history1 = fit(epochs, lr, model, train_loader, val_loader)"
   ]
  },
  {
   "cell_type": "code",
   "execution_count": 37,
   "metadata": {
    "colab": {
     "base_uri": "https://localhost:8080/"
    },
    "id": "y4uEsD5i-yMW",
    "outputId": "9c5290f3-6c3a-4573-d500-6d6f368780ca"
   },
   "outputs": [
    {
     "name": "stdout",
     "output_type": "stream",
     "text": [
      "Epoch [20], val_loss: 3430.2686\n",
      "Epoch [40], val_loss: 3429.2932\n",
      "Epoch [60], val_loss: 3476.1821\n",
      "Epoch [80], val_loss: 3474.9126\n",
      "Epoch [100], val_loss: 3447.0623\n",
      "Epoch [120], val_loss: 3428.1118\n",
      "Epoch [140], val_loss: 3430.7378\n",
      "Epoch [160], val_loss: 3430.6421\n",
      "Epoch [180], val_loss: 3437.7124\n",
      "Epoch [200], val_loss: 3427.4314\n",
      "Epoch [220], val_loss: 3449.3906\n",
      "Epoch [240], val_loss: 3427.5747\n",
      "Epoch [260], val_loss: 3430.4390\n",
      "Epoch [280], val_loss: 3427.8708\n",
      "Epoch [300], val_loss: 3427.1912\n",
      "Epoch [320], val_loss: 3427.7317\n",
      "Epoch [340], val_loss: 3425.9409\n",
      "Epoch [360], val_loss: 3425.6133\n",
      "Epoch [380], val_loss: 3438.5535\n",
      "Epoch [400], val_loss: 3426.9341\n",
      "Epoch [420], val_loss: 3439.8975\n",
      "Epoch [440], val_loss: 3427.3252\n",
      "Epoch [460], val_loss: 3428.6316\n",
      "Epoch [480], val_loss: 3424.5767\n",
      "Epoch [500], val_loss: 3429.9392\n"
     ]
    }
   ],
   "source": [
    "epochs = 500\n",
    "lr = 0.1\n",
    "history2 = fit(epochs, lr, model, train_loader, val_loader)"
   ]
  },
  {
   "cell_type": "code",
   "execution_count": 38,
   "metadata": {
    "colab": {
     "base_uri": "https://localhost:8080/"
    },
    "id": "dqthJ9s5-yMX",
    "outputId": "1b290032-132e-4cc0-8707-85f90c984913"
   },
   "outputs": [
    {
     "name": "stdout",
     "output_type": "stream",
     "text": [
      "Epoch [20], val_loss: 3434.2437\n",
      "Epoch [40], val_loss: 3429.0225\n",
      "Epoch [60], val_loss: 3427.4041\n",
      "Epoch [80], val_loss: 3426.1641\n",
      "Epoch [100], val_loss: 3424.0642\n",
      "Epoch [120], val_loss: 3427.8818\n",
      "Epoch [140], val_loss: 3435.2341\n",
      "Epoch [160], val_loss: 3454.9819\n",
      "Epoch [180], val_loss: 3472.4033\n",
      "Epoch [200], val_loss: 3423.5435\n",
      "Epoch [220], val_loss: 3451.0481\n",
      "Epoch [240], val_loss: 3424.1638\n",
      "Epoch [260], val_loss: 3434.8630\n",
      "Epoch [280], val_loss: 3465.5933\n",
      "Epoch [300], val_loss: 3447.9988\n",
      "Epoch [320], val_loss: 3425.2327\n",
      "Epoch [340], val_loss: 3423.4429\n",
      "Epoch [360], val_loss: 3426.1704\n",
      "Epoch [380], val_loss: 3421.8206\n",
      "Epoch [400], val_loss: 3425.9338\n",
      "Epoch [420], val_loss: 3423.6130\n",
      "Epoch [440], val_loss: 3422.5347\n",
      "Epoch [460], val_loss: 3457.7214\n",
      "Epoch [480], val_loss: 3422.8225\n",
      "Epoch [500], val_loss: 3467.0237\n"
     ]
    }
   ],
   "source": [
    "epochs = 500\n",
    "lr = 0.1\n",
    "history3 = fit(epochs, lr, model, train_loader, val_loader)"
   ]
  },
  {
   "cell_type": "code",
   "execution_count": 39,
   "metadata": {
    "colab": {
     "base_uri": "https://localhost:8080/"
    },
    "id": "Q0r7uKEM-yMX",
    "outputId": "cf4640b7-6eb6-4d8d-d361-bee396fcef20"
   },
   "outputs": [
    {
     "name": "stdout",
     "output_type": "stream",
     "text": [
      "Epoch [20], val_loss: 3428.7205\n",
      "Epoch [40], val_loss: 3426.7041\n",
      "Epoch [60], val_loss: 3425.3113\n",
      "Epoch [80], val_loss: 3423.6694\n",
      "Epoch [100], val_loss: 3427.3147\n",
      "Epoch [120], val_loss: 3425.6731\n",
      "Epoch [140], val_loss: 3425.3474\n",
      "Epoch [160], val_loss: 3424.4438\n",
      "Epoch [180], val_loss: 3423.7146\n",
      "Epoch [200], val_loss: 3427.5781\n",
      "Epoch [220], val_loss: 3426.0129\n",
      "Epoch [240], val_loss: 3424.9297\n",
      "Epoch [260], val_loss: 3424.7917\n",
      "Epoch [280], val_loss: 3424.2288\n",
      "Epoch [300], val_loss: 3426.2192\n",
      "Epoch [320], val_loss: 3424.9753\n",
      "Epoch [340], val_loss: 3426.1050\n",
      "Epoch [360], val_loss: 3426.7769\n",
      "Epoch [380], val_loss: 3424.9739\n",
      "Epoch [400], val_loss: 3426.3174\n",
      "Epoch [420], val_loss: 3424.4302\n",
      "Epoch [440], val_loss: 3424.6479\n",
      "Epoch [460], val_loss: 3424.4431\n",
      "Epoch [480], val_loss: 3425.6064\n",
      "Epoch [500], val_loss: 3425.9834\n"
     ]
    }
   ],
   "source": [
    "epochs = 500\n",
    "lr = 0.01\n",
    "history4 = fit(epochs, lr, model, train_loader, val_loader)"
   ]
  },
  {
   "cell_type": "code",
   "execution_count": 40,
   "metadata": {
    "colab": {
     "base_uri": "https://localhost:8080/"
    },
    "id": "JCJ9sl2T-yMX",
    "outputId": "89e61e7d-8857-4677-d7d1-5a8d492c8957"
   },
   "outputs": [
    {
     "name": "stdout",
     "output_type": "stream",
     "text": [
      "Epoch [20], val_loss: 3425.1357\n",
      "Epoch [40], val_loss: 3425.2400\n",
      "Epoch [60], val_loss: 3425.2874\n",
      "Epoch [80], val_loss: 3425.2058\n",
      "Epoch [100], val_loss: 3425.2383\n",
      "Epoch [120], val_loss: 3425.1875\n",
      "Epoch [140], val_loss: 3425.2788\n",
      "Epoch [160], val_loss: 3425.1990\n",
      "Epoch [180], val_loss: 3425.3042\n",
      "Epoch [200], val_loss: 3425.3828\n",
      "Epoch [220], val_loss: 3425.2656\n",
      "Epoch [240], val_loss: 3425.2764\n",
      "Epoch [260], val_loss: 3425.2605\n",
      "Epoch [280], val_loss: 3425.1658\n",
      "Epoch [300], val_loss: 3425.2183\n",
      "Epoch [320], val_loss: 3425.2473\n",
      "Epoch [340], val_loss: 3425.1619\n",
      "Epoch [360], val_loss: 3425.2471\n",
      "Epoch [380], val_loss: 3425.1768\n",
      "Epoch [400], val_loss: 3425.3286\n",
      "Epoch [420], val_loss: 3425.2717\n",
      "Epoch [440], val_loss: 3425.1616\n",
      "Epoch [460], val_loss: 3425.4058\n",
      "Epoch [480], val_loss: 3425.2534\n",
      "Epoch [500], val_loss: 3425.2747\n"
     ]
    }
   ],
   "source": [
    "epochs = 500\n",
    "lr = 0.001\n",
    "history5 = fit(epochs, lr, model, train_loader, val_loader)"
   ]
  },
  {
   "cell_type": "markdown",
   "metadata": {
    "id": "0DkSl4wy-yMX"
   },
   "source": [
    "**Q12: What is the final validation loss of your model?**"
   ]
  },
  {
   "cell_type": "code",
   "execution_count": 49,
   "metadata": {
    "id": "narrPXfS-yMY"
   },
   "outputs": [],
   "source": [
    "val_loss = 3425.2747  # history5[-1][\"val_loss\"]"
   ]
  },
  {
   "cell_type": "markdown",
   "metadata": {
    "id": "kEz57_Sd-yMY"
   },
   "source": [
    "Let's log the final validation loss to Jovian and commit the notebook"
   ]
  },
  {
   "cell_type": "code",
   "execution_count": 42,
   "metadata": {
    "colab": {
     "base_uri": "https://localhost:8080/",
     "height": 658
    },
    "id": "u5T3VGmN-yMZ",
    "outputId": "82afde39-4bbd-4498-8ffa-794139e407c9"
   },
   "outputs": [
    {
     "name": "stdout",
     "output_type": "stream",
     "text": [
      "[jovian] Metrics logged.\u001b[0m\n"
     ]
    }
   ],
   "source": [
    "jovian.log_metrics(val_loss=val_loss)"
   ]
  },
  {
   "cell_type": "code",
   "execution_count": 43,
   "metadata": {
    "id": "t0XFYNGU-yMZ"
   },
   "outputs": [
    {
     "data": {
      "application/javascript": [
       "window.require && require([\"base/js/namespace\"],function(Jupyter){Jupyter.notebook.save_checkpoint()})"
      ],
      "text/plain": [
       "<IPython.core.display.Javascript object>"
      ]
     },
     "metadata": {},
     "output_type": "display_data"
    },
    {
     "name": "stdout",
     "output_type": "stream",
     "text": [
      "[jovian] Updating notebook \"adejumod7/02-insurance-linear-regression\" on https://jovian.ai\u001b[0m\n",
      "[jovian] Attaching records (metrics, hyperparameters, dataset etc.)\u001b[0m\n",
      "[jovian] Committed successfully! https://jovian.ai/adejumod7/02-insurance-linear-regression\u001b[0m\n"
     ]
    },
    {
     "data": {
      "text/plain": [
       "'https://jovian.ai/adejumod7/02-insurance-linear-regression'"
      ]
     },
     "execution_count": 43,
     "metadata": {},
     "output_type": "execute_result"
    }
   ],
   "source": [
    "jovian.commit(project=project_name, environment=None)"
   ]
  },
  {
   "cell_type": "markdown",
   "metadata": {
    "id": "wNph4HVX-yMZ"
   },
   "source": [
    "Now scroll back up, re-initialize the model, and try different set of values for batch size, number of epochs, learning rate etc. Commit each experiment and use the \"Compare\" and \"View Diff\" options on Jovian to compare the different results."
   ]
  },
  {
   "cell_type": "markdown",
   "metadata": {
    "id": "GOVH_CUr-yMZ"
   },
   "source": [
    "## Step 5: Make predictions using the trained model\n",
    "\n",
    "**Q13: Complete the following function definition to make predictions on a single input**"
   ]
  },
  {
   "cell_type": "code",
   "execution_count": 44,
   "metadata": {
    "id": "KPAAHNGJ-yMa"
   },
   "outputs": [],
   "source": [
    "def predict_single(input, target, model):\n",
    "    inputs = input.unsqueeze(0)\n",
    "    predictions = model(input)                # fill this\n",
    "    prediction = predictions[0].detach()\n",
    "    print(\"Input:\", input)\n",
    "    print(\"Target:\", target)\n",
    "    print(\"Prediction:\", prediction)"
   ]
  },
  {
   "cell_type": "code",
   "execution_count": 45,
   "metadata": {
    "colab": {
     "base_uri": "https://localhost:8080/"
    },
    "id": "ibt57dYH-yMa",
    "outputId": "ab0d7f98-237b-4c9b-db3d-97757d3ef885"
   },
   "outputs": [
    {
     "name": "stdout",
     "output_type": "stream",
     "text": [
      "Input: tensor([59.0000,  0.0000, 25.8941,  3.0000,  0.0000])\n",
      "Target: tensor([15820.9795])\n",
      "Prediction: tensor(14489.4941)\n"
     ]
    }
   ],
   "source": [
    "input, target = val_ds[0]\n",
    "predict_single(input, target, model)"
   ]
  },
  {
   "cell_type": "code",
   "execution_count": 46,
   "metadata": {
    "colab": {
     "base_uri": "https://localhost:8080/"
    },
    "id": "Vkeva7W8-yMa",
    "outputId": "de066ca3-1c05-4695-ac74-6b82597b5943"
   },
   "outputs": [
    {
     "name": "stdout",
     "output_type": "stream",
     "text": [
      "Input: tensor([47.0000,  0.0000, 34.9200,  1.0000,  0.0000])\n",
      "Target: tensor([9412.5977])\n",
      "Prediction: tensor(10334.2480)\n"
     ]
    }
   ],
   "source": [
    "input, target = val_ds[10]\n",
    "predict_single(input, target, model)"
   ]
  },
  {
   "cell_type": "code",
   "execution_count": 47,
   "metadata": {
    "colab": {
     "base_uri": "https://localhost:8080/"
    },
    "id": "1XmlXCCX-yMa",
    "outputId": "ccd25310-9a73-4f7a-89c1-e82bf0c06a9b"
   },
   "outputs": [
    {
     "name": "stdout",
     "output_type": "stream",
     "text": [
      "Input: tensor([64.0000,  1.0000, 36.7678,  0.0000,  0.0000])\n",
      "Target: tensor([15631.5898])\n",
      "Prediction: tensor(14392.2969)\n"
     ]
    }
   ],
   "source": [
    "input, target = val_ds[23]\n",
    "predict_single(input, target, model)"
   ]
  },
  {
   "cell_type": "markdown",
   "metadata": {
    "id": "KaJNjCSu-yMb"
   },
   "source": [
    "Are you happy with your model's predictions? Try to improve them further."
   ]
  },
  {
   "cell_type": "markdown",
   "metadata": {
    "id": "G4P-OEY8-yMb"
   },
   "source": [
    "## (Optional) Step 6: Try another dataset & blog about it\n",
    "\n",
    "While this last step is optional for the submission of your assignment, we highly recommend that you do it. Try to replicate this notebook for a different linear regression or logistic regression problem. This will help solidify your understanding, and give you a chance to differentiate the generic patterns in machine learning from problem-specific details.You can use one of these starer notebooks (just change the dataset):\n",
    "\n",
    "- Linear regression (minimal): https://jovian.ai/aakashns/housing-linear-minimal\n",
    "- Logistic regression (minimal): https://jovian.ai/aakashns/mnist-logistic-minimal\n",
    "\n",
    "Here are some sources to find good datasets:\n",
    "\n",
    "- https://lionbridge.ai/datasets/10-open-datasets-for-linear-regression/\n",
    "- https://www.kaggle.com/rtatman/datasets-for-regression-analysis\n",
    "- https://archive.ics.uci.edu/ml/datasets.php?format=&task=reg&att=&area=&numAtt=&numIns=&type=&sort=nameUp&view=table\n",
    "- https://people.sc.fsu.edu/~jburkardt/datasets/regression/regression.html\n",
    "- https://archive.ics.uci.edu/ml/datasets/wine+quality\n",
    "- https://pytorch.org/docs/stable/torchvision/datasets.html\n",
    "\n",
    "We also recommend that you write a blog about your approach to the problem. Here is a suggested structure for your post (feel free to experiment with it):\n",
    "\n",
    "- Interesting title & subtitle\n",
    "- Overview of what the blog covers (which dataset, linear regression or logistic regression, intro to PyTorch)\n",
    "- Downloading & exploring the data\n",
    "- Preparing the data for training\n",
    "- Creating a model using PyTorch\n",
    "- Training the model to fit the data\n",
    "- Your thoughts on how to experiment with different hyperparmeters to reduce loss\n",
    "- Making predictions using the model\n",
    "\n",
    "As with the previous assignment, you can [embed Juptyer notebook cells & outputs from Jovian](https://medium.com/jovianml/share-and-embed-jupyter-notebooks-online-with-jovian-ml-df709a03064e) into your blog. \n",
    "\n",
    "Don't forget to share your work on the forum: https://jovian.ai/forum/t/linear-regression-and-logistic-regression-notebooks-and-blog-posts/14039"
   ]
  },
  {
   "cell_type": "code",
   "execution_count": 50,
   "metadata": {
    "id": "8olkGlM8-yMb",
    "outputId": "eeae22a8-12b4-47d0-8e88-6daa956a08cd"
   },
   "outputs": [
    {
     "data": {
      "application/javascript": [
       "window.require && require([\"base/js/namespace\"],function(Jupyter){Jupyter.notebook.save_checkpoint()})"
      ],
      "text/plain": [
       "<IPython.core.display.Javascript object>"
      ]
     },
     "metadata": {},
     "output_type": "display_data"
    },
    {
     "name": "stdout",
     "output_type": "stream",
     "text": [
      "[jovian] Updating notebook \"adejumod7/02-insurance-linear-regression\" on https://jovian.ai\u001b[0m\n",
      "[jovian] Attaching records (metrics, hyperparameters, dataset etc.)\u001b[0m\n",
      "[jovian] Committed successfully! https://jovian.ai/adejumod7/02-insurance-linear-regression\u001b[0m\n"
     ]
    },
    {
     "data": {
      "application/javascript": [
       "window.require && require([\"base/js/namespace\"],function(Jupyter){Jupyter.notebook.save_checkpoint()})"
      ],
      "text/plain": [
       "<IPython.core.display.Javascript object>"
      ]
     },
     "metadata": {},
     "output_type": "display_data"
    },
    {
     "name": "stdout",
     "output_type": "stream",
     "text": [
      "[jovian] Updating notebook \"adejumod7/02-insurance-linear-regression\" on https://jovian.ai\u001b[0m\n",
      "[jovian] Attaching records (metrics, hyperparameters, dataset etc.)\u001b[0m\n",
      "[jovian] Committed successfully! https://jovian.ai/adejumod7/02-insurance-linear-regression\u001b[0m\n"
     ]
    },
    {
     "data": {
      "text/plain": [
       "'https://jovian.ai/adejumod7/02-insurance-linear-regression'"
      ]
     },
     "execution_count": 50,
     "metadata": {},
     "output_type": "execute_result"
    }
   ],
   "source": [
    "jovian.commit(project=project_name, environment=None)\n",
    "jovian.commit(project=project_name, environment=None) # try again, kaggle fails sometimes"
   ]
  },
  {
   "cell_type": "code",
   "execution_count": null,
   "metadata": {},
   "outputs": [],
   "source": []
  }
 ],
 "metadata": {
  "colab": {
   "collapsed_sections": [
    "GOVH_CUr-yMZ",
    "G4P-OEY8-yMb"
   ],
   "name": "2. Insurance Cost Prediction.ipynb",
   "provenance": []
  },
  "kernelspec": {
   "display_name": "Python 3 (ipykernel)",
   "language": "python",
   "name": "python3"
  },
  "language_info": {
   "codemirror_mode": {
    "name": "ipython",
    "version": 3
   },
   "file_extension": ".py",
   "mimetype": "text/x-python",
   "name": "python",
   "nbconvert_exporter": "python",
   "pygments_lexer": "ipython3",
   "version": "3.9.6"
  },
  "widgets": {
   "application/vnd.jupyter.widget-state+json": {
    "0196947e784c45ccac0abfbbae7b4a5c": {
     "model_module": "@jupyter-widgets/controls",
     "model_module_version": "1.5.0",
     "model_name": "DescriptionStyleModel",
     "state": {
      "_model_module": "@jupyter-widgets/controls",
      "_model_module_version": "1.5.0",
      "_model_name": "DescriptionStyleModel",
      "_view_count": null,
      "_view_module": "@jupyter-widgets/base",
      "_view_module_version": "1.2.0",
      "_view_name": "StyleView",
      "description_width": ""
     }
    },
    "59496c07162943abaf88b6e1f0a06c3f": {
     "model_module": "@jupyter-widgets/controls",
     "model_module_version": "1.5.0",
     "model_name": "ProgressStyleModel",
     "state": {
      "_model_module": "@jupyter-widgets/controls",
      "_model_module_version": "1.5.0",
      "_model_name": "ProgressStyleModel",
      "_view_count": null,
      "_view_module": "@jupyter-widgets/base",
      "_view_module_version": "1.2.0",
      "_view_name": "StyleView",
      "bar_color": null,
      "description_width": ""
     }
    },
    "87b6d658dd86422dbd56adf781c1a4af": {
     "model_module": "@jupyter-widgets/base",
     "model_module_version": "1.2.0",
     "model_name": "LayoutModel",
     "state": {
      "_model_module": "@jupyter-widgets/base",
      "_model_module_version": "1.2.0",
      "_model_name": "LayoutModel",
      "_view_count": null,
      "_view_module": "@jupyter-widgets/base",
      "_view_module_version": "1.2.0",
      "_view_name": "LayoutView",
      "align_content": null,
      "align_items": null,
      "align_self": null,
      "border": null,
      "bottom": null,
      "display": null,
      "flex": null,
      "flex_flow": null,
      "grid_area": null,
      "grid_auto_columns": null,
      "grid_auto_flow": null,
      "grid_auto_rows": null,
      "grid_column": null,
      "grid_gap": null,
      "grid_row": null,
      "grid_template_areas": null,
      "grid_template_columns": null,
      "grid_template_rows": null,
      "height": null,
      "justify_content": null,
      "justify_items": null,
      "left": null,
      "margin": null,
      "max_height": null,
      "max_width": null,
      "min_height": null,
      "min_width": null,
      "object_fit": null,
      "object_position": null,
      "order": null,
      "overflow": null,
      "overflow_x": null,
      "overflow_y": null,
      "padding": null,
      "right": null,
      "top": null,
      "visibility": null,
      "width": null
     }
    },
    "8f07a5ea105e497fba6b9a58e7c8f6df": {
     "model_module": "@jupyter-widgets/controls",
     "model_module_version": "1.5.0",
     "model_name": "HBoxModel",
     "state": {
      "_dom_classes": [],
      "_model_module": "@jupyter-widgets/controls",
      "_model_module_version": "1.5.0",
      "_model_name": "HBoxModel",
      "_view_count": null,
      "_view_module": "@jupyter-widgets/controls",
      "_view_module_version": "1.5.0",
      "_view_name": "HBoxView",
      "box_style": "",
      "children": [
       "IPY_MODEL_e1afbc481e3c4713a1b99e675388a437",
       "IPY_MODEL_a476a0d4912f4294ad125f36ee995318",
       "IPY_MODEL_b76334950bff401ba82854c0cbd50feb"
      ],
      "layout": "IPY_MODEL_87b6d658dd86422dbd56adf781c1a4af"
     }
    },
    "9e699f83dd6f42209df8a244381e5e67": {
     "model_module": "@jupyter-widgets/base",
     "model_module_version": "1.2.0",
     "model_name": "LayoutModel",
     "state": {
      "_model_module": "@jupyter-widgets/base",
      "_model_module_version": "1.2.0",
      "_model_name": "LayoutModel",
      "_view_count": null,
      "_view_module": "@jupyter-widgets/base",
      "_view_module_version": "1.2.0",
      "_view_name": "LayoutView",
      "align_content": null,
      "align_items": null,
      "align_self": null,
      "border": null,
      "bottom": null,
      "display": null,
      "flex": null,
      "flex_flow": null,
      "grid_area": null,
      "grid_auto_columns": null,
      "grid_auto_flow": null,
      "grid_auto_rows": null,
      "grid_column": null,
      "grid_gap": null,
      "grid_row": null,
      "grid_template_areas": null,
      "grid_template_columns": null,
      "grid_template_rows": null,
      "height": null,
      "justify_content": null,
      "justify_items": null,
      "left": null,
      "margin": null,
      "max_height": null,
      "max_width": null,
      "min_height": null,
      "min_width": null,
      "object_fit": null,
      "object_position": null,
      "order": null,
      "overflow": null,
      "overflow_x": null,
      "overflow_y": null,
      "padding": null,
      "right": null,
      "top": null,
      "visibility": null,
      "width": null
     }
    },
    "a476a0d4912f4294ad125f36ee995318": {
     "model_module": "@jupyter-widgets/controls",
     "model_module_version": "1.5.0",
     "model_name": "FloatProgressModel",
     "state": {
      "_dom_classes": [],
      "_model_module": "@jupyter-widgets/controls",
      "_model_module_version": "1.5.0",
      "_model_name": "FloatProgressModel",
      "_view_count": null,
      "_view_module": "@jupyter-widgets/controls",
      "_view_module_version": "1.5.0",
      "_view_name": "ProgressView",
      "bar_style": "success",
      "description": "",
      "description_tooltip": null,
      "layout": "IPY_MODEL_e241c7a10f8f459d9a7d58ec0036db33",
      "max": 54288,
      "min": 0,
      "orientation": "horizontal",
      "style": "IPY_MODEL_59496c07162943abaf88b6e1f0a06c3f",
      "value": 54288
     }
    },
    "ac4a907360ee40f5973bc8bf84e95e3c": {
     "model_module": "@jupyter-widgets/controls",
     "model_module_version": "1.5.0",
     "model_name": "DescriptionStyleModel",
     "state": {
      "_model_module": "@jupyter-widgets/controls",
      "_model_module_version": "1.5.0",
      "_model_name": "DescriptionStyleModel",
      "_view_count": null,
      "_view_module": "@jupyter-widgets/base",
      "_view_module_version": "1.2.0",
      "_view_name": "StyleView",
      "description_width": ""
     }
    },
    "b76334950bff401ba82854c0cbd50feb": {
     "model_module": "@jupyter-widgets/controls",
     "model_module_version": "1.5.0",
     "model_name": "HTMLModel",
     "state": {
      "_dom_classes": [],
      "_model_module": "@jupyter-widgets/controls",
      "_model_module_version": "1.5.0",
      "_model_name": "HTMLModel",
      "_view_count": null,
      "_view_module": "@jupyter-widgets/controls",
      "_view_module_version": "1.5.0",
      "_view_name": "HTMLView",
      "description": "",
      "description_tooltip": null,
      "layout": "IPY_MODEL_cd3349878a204e599eb1db810b694476",
      "placeholder": "​",
      "style": "IPY_MODEL_ac4a907360ee40f5973bc8bf84e95e3c",
      "value": " 55296/? [00:00&lt;00:00, 8728.65it/s]"
     }
    },
    "cd3349878a204e599eb1db810b694476": {
     "model_module": "@jupyter-widgets/base",
     "model_module_version": "1.2.0",
     "model_name": "LayoutModel",
     "state": {
      "_model_module": "@jupyter-widgets/base",
      "_model_module_version": "1.2.0",
      "_model_name": "LayoutModel",
      "_view_count": null,
      "_view_module": "@jupyter-widgets/base",
      "_view_module_version": "1.2.0",
      "_view_name": "LayoutView",
      "align_content": null,
      "align_items": null,
      "align_self": null,
      "border": null,
      "bottom": null,
      "display": null,
      "flex": null,
      "flex_flow": null,
      "grid_area": null,
      "grid_auto_columns": null,
      "grid_auto_flow": null,
      "grid_auto_rows": null,
      "grid_column": null,
      "grid_gap": null,
      "grid_row": null,
      "grid_template_areas": null,
      "grid_template_columns": null,
      "grid_template_rows": null,
      "height": null,
      "justify_content": null,
      "justify_items": null,
      "left": null,
      "margin": null,
      "max_height": null,
      "max_width": null,
      "min_height": null,
      "min_width": null,
      "object_fit": null,
      "object_position": null,
      "order": null,
      "overflow": null,
      "overflow_x": null,
      "overflow_y": null,
      "padding": null,
      "right": null,
      "top": null,
      "visibility": null,
      "width": null
     }
    },
    "e1afbc481e3c4713a1b99e675388a437": {
     "model_module": "@jupyter-widgets/controls",
     "model_module_version": "1.5.0",
     "model_name": "HTMLModel",
     "state": {
      "_dom_classes": [],
      "_model_module": "@jupyter-widgets/controls",
      "_model_module_version": "1.5.0",
      "_model_name": "HTMLModel",
      "_view_count": null,
      "_view_module": "@jupyter-widgets/controls",
      "_view_module_version": "1.5.0",
      "_view_name": "HTMLView",
      "description": "",
      "description_tooltip": null,
      "layout": "IPY_MODEL_9e699f83dd6f42209df8a244381e5e67",
      "placeholder": "​",
      "style": "IPY_MODEL_0196947e784c45ccac0abfbbae7b4a5c",
      "value": ""
     }
    },
    "e241c7a10f8f459d9a7d58ec0036db33": {
     "model_module": "@jupyter-widgets/base",
     "model_module_version": "1.2.0",
     "model_name": "LayoutModel",
     "state": {
      "_model_module": "@jupyter-widgets/base",
      "_model_module_version": "1.2.0",
      "_model_name": "LayoutModel",
      "_view_count": null,
      "_view_module": "@jupyter-widgets/base",
      "_view_module_version": "1.2.0",
      "_view_name": "LayoutView",
      "align_content": null,
      "align_items": null,
      "align_self": null,
      "border": null,
      "bottom": null,
      "display": null,
      "flex": null,
      "flex_flow": null,
      "grid_area": null,
      "grid_auto_columns": null,
      "grid_auto_flow": null,
      "grid_auto_rows": null,
      "grid_column": null,
      "grid_gap": null,
      "grid_row": null,
      "grid_template_areas": null,
      "grid_template_columns": null,
      "grid_template_rows": null,
      "height": null,
      "justify_content": null,
      "justify_items": null,
      "left": null,
      "margin": null,
      "max_height": null,
      "max_width": null,
      "min_height": null,
      "min_width": null,
      "object_fit": null,
      "object_position": null,
      "order": null,
      "overflow": null,
      "overflow_x": null,
      "overflow_y": null,
      "padding": null,
      "right": null,
      "top": null,
      "visibility": null,
      "width": null
     }
    }
   }
  }
 },
 "nbformat": 4,
 "nbformat_minor": 1
}
